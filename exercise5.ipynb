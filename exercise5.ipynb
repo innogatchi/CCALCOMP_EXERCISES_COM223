{
  "cells": [
    {
      "cell_type": "markdown",
      "metadata": {
        "id": "-8bYOEC8HOQ4"
      },
      "source": [
        "# Exercise 5\n",
        "\n",
        "Please follow the instructions in each number."
      ]
    },
    {
      "cell_type": "markdown",
      "metadata": {
        "id": "FEPXLUAPHOQ6"
      },
      "source": [
        "### Maximum Subarray\n",
        "Given an array of integers nums, find the subarray with the largest sum and return the sum.\n",
        "\n",
        "A subarray is a contiguous non-empty sequence of elements within an array.\n",
        "\n",
        "\n",
        "\n",
        "Example 1:\n",
        "\n",
        "Input: nums = [2,-3,4,-2,2,1,-1,4]\n",
        "\n",
        "Output: 8\n",
        "\n",
        "Explanation: The subarray [4,-2,2,1,-1,4] has the largest sum 8."
      ]
    },
    {
      "cell_type": "markdown",
      "metadata": {
        "id": "D4a-4yS4HOQ7"
      },
      "source": [
        "## Tasks"
      ]
    },
    {
      "cell_type": "markdown",
      "metadata": {
        "id": "v8mlE6kYHOQ7"
      },
      "source": [
        "1. Put your student number in a list and manually compute the maximum subarray in your student number (`10 points`)"
      ]
    },
    {
      "cell_type": "code",
      "execution_count": 18,
      "metadata": {
        "vscode": {
          "languageId": "plaintext"
        },
        "id": "YJMIVpuTHOQ8",
        "colab": {
          "base_uri": "https://localhost:8080/"
        },
        "outputId": "41ad5fae-22c2-4573-d9be-d6d622beff6d"
      },
      "outputs": [
        {
          "output_type": "stream",
          "name": "stdout",
          "text": [
            "34\n"
          ]
        }
      ],
      "source": [
        "student_number = [2, 0, 2, 2, -1, 0, 7, 3, 8, 9]\n",
        "\n",
        "total = 2+2+2+1+7+3+8+9\n",
        "print(total)"
      ]
    },
    {
      "cell_type": "markdown",
      "metadata": {
        "id": "nchQgI2KHOQ8"
      },
      "source": [
        "2. Write a program using a brute-force approach to get the maximum-subarray of your student number (`40 points`)"
      ]
    },
    {
      "cell_type": "code",
      "execution_count": 19,
      "metadata": {
        "vscode": {
          "languageId": "plaintext"
        },
        "id": "b9P6oe11HOQ9",
        "colab": {
          "base_uri": "https://localhost:8080/"
        },
        "outputId": "abac5ad0-c59a-483f-efa3-51b3e54b71f2"
      },
      "outputs": [
        {
          "output_type": "stream",
          "name": "stdout",
          "text": [
            "Sum: 34\n"
          ]
        }
      ],
      "source": [
        "def brute_force(nums):\n",
        "    n = len(nums)\n",
        "    sum = float('-inf')\n",
        "\n",
        "    for i in range(n):\n",
        "        for j in range(i, n):\n",
        "            holder = 0\n",
        "            for k in range(i, j + 1):\n",
        "                holder += nums[k]\n",
        "            if holder > sum:\n",
        "                sum = holder\n",
        "\n",
        "    return sum\n",
        "\n",
        "student_number = [2, 0, 2, 2, 1, 0, 7, 3, 8, 9]\n",
        "print(\"Sum:\", brute_force(student_number))"
      ]
    },
    {
      "cell_type": "markdown",
      "metadata": {
        "id": "NkqAxIx_HOQ9"
      },
      "source": [
        "3. Write a program using a dynamic programming to get the maximum-subarray of your student number (`50 points`)"
      ]
    },
    {
      "cell_type": "code",
      "execution_count": 20,
      "metadata": {
        "vscode": {
          "languageId": "plaintext"
        },
        "id": "BFBp2ARLHOQ9",
        "colab": {
          "base_uri": "https://localhost:8080/"
        },
        "outputId": "938acb46-f878-4fb0-f23f-52eb7556dddf"
      },
      "outputs": [
        {
          "output_type": "stream",
          "name": "stdout",
          "text": [
            "Sum: 34\n"
          ]
        }
      ],
      "source": [
        "def dynamic_programming(nums):\n",
        "    holder = sum = nums[0]\n",
        "\n",
        "    for i in range(1, len(nums)):\n",
        "        holder = max(nums[i], holder + nums[i])\n",
        "        if holder > sum:\n",
        "            sum = holder\n",
        "\n",
        "    return sum\n",
        "\n",
        "# Student number as a list\n",
        "student_number = [2, 0, 2, 2, 1, 0, 7, 3, 8, 9]\n",
        "print(\"Sum:\", dynamic_programming(student_number))"
      ]
    }
  ],
  "metadata": {
    "colab": {
      "provenance": []
    },
    "kernelspec": {
      "display_name": "base",
      "language": "python",
      "name": "python3"
    },
    "language_info": {
      "codemirror_mode": {
        "name": "ipython",
        "version": 3
      },
      "file_extension": ".py",
      "mimetype": "text/x-python",
      "name": "python",
      "nbconvert_exporter": "python",
      "pygments_lexer": "ipython3",
      "version": "3.9.6"
    }
  },
  "nbformat": 4,
  "nbformat_minor": 0
}