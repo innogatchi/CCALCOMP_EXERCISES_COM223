{
  "cells": [
    {
      "cell_type": "markdown",
      "metadata": {
        "id": "cPRRjBOhHHMh"
      },
      "source": [
        "# Exercise 4\n",
        "\n",
        "Please follow the instructions in each number."
      ]
    },
    {
      "cell_type": "markdown",
      "metadata": {
        "id": "zvDTNWRFHHMk"
      },
      "source": [
        "### Activity Selection Problem\n",
        "\n",
        "Given a set of activities, along with the starting and finishing time of each activity, find the maximum number of activities performed by a single person assuming that a person can only work on a single activity at a time.\n",
        "\n",
        "For example,\n",
        "\n",
        "Input: Following set of activities (1, 4), (3, 5), (0, 6), (5, 7), (3, 8), (5, 9), (6, 10), (8, 11), (8, 12), (2, 13), (12, 14)  \n",
        "\n",
        "Output: (1, 4), (5, 7), (8, 11), (12, 14)"
      ]
    },
    {
      "cell_type": "markdown",
      "metadata": {
        "id": "ff7w7YLGHHMl"
      },
      "source": [
        "## Tasks"
      ]
    },
    {
      "cell_type": "markdown",
      "metadata": {
        "id": "0QLHdoNSHHMl"
      },
      "source": [
        "1. Write a program using a recursive greedy approach to get the maximum number of activities (`50 points`)"
      ]
    },
    {
      "cell_type": "code",
      "execution_count": null,
      "metadata": {
        "vscode": {
          "languageId": "plaintext"
        },
        "id": "Xe02cHvAHHMl",
        "colab": {
          "base_uri": "https://localhost:8080/"
        },
        "outputId": "fefcc250-96dc-47c4-ce46-ef0ffbc4f92a"
      },
      "outputs": [
        {
          "output_type": "stream",
          "name": "stdout",
          "text": [
            "(1, 4)\n",
            "(5, 7)\n",
            "(8, 11)\n",
            "(12, 14)\n"
          ]
        }
      ],
      "source": [
        "def selector(acts, start, finish, n):\n",
        "    if n == 0:\n",
        "        return []\n",
        "\n",
        "    next = 0\n",
        "    while next < n and acts[next][0] < finish:\n",
        "        next += 1\n",
        "\n",
        "    if next == n:\n",
        "        return []\n",
        "    else:\n",
        "        return [acts[next]] + selector(\n",
        "            acts,\n",
        "            acts[next][0],\n",
        "            acts[next][1],\n",
        "            n\n",
        "        )\n",
        "\n",
        "def recursive_greed(acts):\n",
        "    acts.sort(key=lambda x: x[1])\n",
        "\n",
        "    return selector(acts, 0, 0, len(acts))\n",
        "\n",
        "acts = [(1, 4), (3, 5), (0, 6), (5, 7), (3, 8), (5, 9), (6, 10), (8, 11), (8, 12), (2, 13), (12, 14)]\n",
        "result = recursive_greed(acts)\n",
        "for activity in result:\n",
        "    print(activity)"
      ]
    },
    {
      "cell_type": "markdown",
      "metadata": {
        "id": "eZe27u4LHHMn"
      },
      "source": [
        "2. Write a program using a iterative greedy approach to get the maximun number of activities (`50 points`)"
      ]
    },
    {
      "cell_type": "code",
      "execution_count": null,
      "metadata": {
        "vscode": {
          "languageId": "plaintext"
        },
        "id": "UrSZyQwEHHMn",
        "colab": {
          "base_uri": "https://localhost:8080/"
        },
        "outputId": "776c1ab6-f848-43de-c42a-db4bfdd15a1d"
      },
      "outputs": [
        {
          "output_type": "stream",
          "name": "stdout",
          "text": [
            "(1, 4)\n",
            "(5, 7)\n",
            "(8, 11)\n",
            "(12, 14)\n"
          ]
        }
      ],
      "source": [
        "def iterative_greed(acts):\n",
        "    acts.sort(key=lambda x: x[1])\n",
        "\n",
        "    n = len(acts)\n",
        "    select = []\n",
        "\n",
        "    select.append(acts[0])\n",
        "    last = acts[0][1]\n",
        "\n",
        "    for i in range(1, n):\n",
        "        if acts[i][0] >= last:\n",
        "            select.append(acts[i])\n",
        "            last = acts[i][1]\n",
        "\n",
        "    return select\n",
        "\n",
        "acts = [(1, 4), (3, 5), (0, 6), (5, 7), (3, 8), (5, 9), (6, 10), (8, 11), (8, 12), (2, 13), (12, 14)]\n",
        "result = iterative_greed(acts)\n",
        "for activity in result:\n",
        "    print(activity)"
      ]
    }
  ],
  "metadata": {
    "colab": {
      "provenance": []
    },
    "kernelspec": {
      "display_name": "base",
      "language": "python",
      "name": "python3"
    },
    "language_info": {
      "codemirror_mode": {
        "name": "ipython",
        "version": 3
      },
      "file_extension": ".py",
      "mimetype": "text/x-python",
      "name": "python",
      "nbconvert_exporter": "python",
      "pygments_lexer": "ipython3",
      "version": "3.9.6"
    }
  },
  "nbformat": 4,
  "nbformat_minor": 0
}