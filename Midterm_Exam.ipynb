{
  "cells": [
    {
      "cell_type": "markdown",
      "metadata": {
        "id": "view-in-github",
        "colab_type": "text"
      },
      "source": [
        "<a href=\"https://colab.research.google.com/github/innogatchi/CCALCOMP_EXERCISES_COM223/blob/main/Midterm_Exam.ipynb\" target=\"_parent\"><img src=\"https://colab.research.google.com/assets/colab-badge.svg\" alt=\"Open In Colab\"/></a>"
      ]
    },
    {
      "cell_type": "code",
      "execution_count": 2402,
      "metadata": {
        "id": "MhSLM8o1TM0D"
      },
      "outputs": [],
      "source": [
        "import pandas as pd\n",
        "import matplotlib.pyplot as plt\n",
        "import seaborn as sns\n",
        "from sklearn.model_selection import train_test_split\n",
        "from sklearn.linear_model import LinearRegression\n",
        "from sklearn.preprocessing import MinMaxScaler, StandardScaler\n",
        "from sklearn.preprocessing import LabelEncoder\n",
        "from scipy.stats import pearsonr\n",
        "import statsmodels.api as sm\n",
        "from datetime import datetime\n",
        "\n",
        "from sklearn.neighbors import KNeighborsClassifier\n",
        "from sklearn.metrics import accuracy_score, precision_score, recall_score, f1_score, confusion_matrix, ConfusionMatrixDisplay\n",
        "from sklearn import metrics"
      ]
    },
    {
      "cell_type": "markdown",
      "metadata": {
        "id": "y38uhw3KTM0E"
      },
      "source": [
        "## Dataset File"
      ]
    },
    {
      "cell_type": "code",
      "execution_count": 2403,
      "metadata": {
        "id": "cJgDKuSWTM0F"
      },
      "outputs": [],
      "source": [
        "df = pd.read_csv('train.csv')"
      ]
    },
    {
      "cell_type": "markdown",
      "metadata": {
        "id": "t4I-wkP8TM0F"
      },
      "source": [
        "## Test File"
      ]
    },
    {
      "cell_type": "code",
      "execution_count": 2404,
      "metadata": {
        "id": "3PrJRLebTM0G"
      },
      "outputs": [],
      "source": [
        "dt=pd.read_csv('test.csv')"
      ]
    },
    {
      "cell_type": "markdown",
      "metadata": {
        "id": "ntGpbsBg8hft"
      },
      "source": [
        "## Sample Submission File"
      ]
    },
    {
      "cell_type": "code",
      "execution_count": 2405,
      "metadata": {
        "id": "-5Dwtw_w3U8W"
      },
      "outputs": [],
      "source": [
        "sf=pd.read_csv('sample_submission.csv')"
      ]
    },
    {
      "cell_type": "markdown",
      "metadata": {
        "id": "MYtugfiwUeQO"
      },
      "source": [
        "Code"
      ]
    },
    {
      "cell_type": "code",
      "execution_count": 2406,
      "metadata": {
        "id": "EungT_yaayBp"
      },
      "outputs": [],
      "source": [
        "data=df.copy()"
      ]
    },
    {
      "cell_type": "code",
      "execution_count": 2407,
      "metadata": {
        "id": "Wjr9WREVa9ih"
      },
      "outputs": [],
      "source": [
        "# data = data.drop(['id','fuel_type','accident','clean_title','ext_col','int_col','transmission','brand','model'], axis=1)\n"
      ]
    },
    {
      "cell_type": "code",
      "execution_count": 2408,
      "metadata": {
        "id": "sFPS5M_JcNvH"
      },
      "outputs": [],
      "source": [
        "# data = data.drop('engine', axis=1)"
      ]
    },
    {
      "cell_type": "code",
      "execution_count": 2409,
      "metadata": {
        "id": "rJIX8VYzbPwY"
      },
      "outputs": [],
      "source": [
        "# le_engine = LabelEncoder()\n",
        "# le_accidents = LabelEncoder()\n",
        "# le_transmission = LabelEncoder()\n",
        "# le_brand = LabelEncoder()\n",
        "# le_model = LabelEncoder()\n",
        "\n",
        "# data['engine_encoded'] = le_engine.fit_transform(df['engine'])\n",
        "# data['accident_encoded'] = le_accidents.fit_transform(df['accident'])\n",
        "# data['transmission_encoded'] = le_transmission.fit_transform(df['transmission'])\n",
        "# data['brand_encoded'] = le_brand.fit_transform(df['brand'])\n",
        "# data['model_encoded'] = le_model.fit_transform(df['model'])\n",
        "# data = data.drop(['transmission','brand','model'], axis=1)"
      ]
    },
    {
      "cell_type": "code",
      "execution_count": 2410,
      "metadata": {
        "id": "iLX_COgf95oI",
        "colab": {
          "base_uri": "https://localhost:8080/"
        },
        "outputId": "f1d100bc-0a5c-46af-db23-b7484d51b7a5"
      },
      "outputs": [
        {
          "output_type": "stream",
          "name": "stdout",
          "text": [
            "<class 'pandas.core.frame.DataFrame'>\n",
            "RangeIndex: 188533 entries, 0 to 188532\n",
            "Data columns (total 13 columns):\n",
            " #   Column        Non-Null Count   Dtype \n",
            "---  ------        --------------   ----- \n",
            " 0   id            188533 non-null  int64 \n",
            " 1   brand         188533 non-null  object\n",
            " 2   model         188533 non-null  object\n",
            " 3   model_year    188533 non-null  int64 \n",
            " 4   milage        188533 non-null  int64 \n",
            " 5   fuel_type     183450 non-null  object\n",
            " 6   engine        188533 non-null  object\n",
            " 7   transmission  188533 non-null  object\n",
            " 8   ext_col       188533 non-null  object\n",
            " 9   int_col       188533 non-null  object\n",
            " 10  accident      186081 non-null  object\n",
            " 11  clean_title   167114 non-null  object\n",
            " 12  price         188533 non-null  int64 \n",
            "dtypes: int64(4), object(9)\n",
            "memory usage: 18.7+ MB\n"
          ]
        }
      ],
      "source": [
        "data.info()"
      ]
    },
    {
      "cell_type": "code",
      "execution_count": 2411,
      "metadata": {
        "id": "rkeX2R5ysgaE"
      },
      "outputs": [],
      "source": [
        "X = data.drop(['id','price','accident','engine'], axis=1)\n",
        "y = data['price']\n",
        "X = pd.get_dummies(X,drop_first=True)\n",
        "X_train, X_test, y_train, y_test = train_test_split(X, y, test_size=0.3, random_state=1)\n"
      ]
    },
    {
      "cell_type": "code",
      "execution_count": 2412,
      "metadata": {
        "id": "hFrHZr2PqKFb",
        "colab": {
          "base_uri": "https://localhost:8080/"
        },
        "outputId": "6cc08c44-a9f8-47ec-c69c-a1052d327284"
      },
      "outputs": [
        {
          "output_type": "execute_result",
          "data": {
            "text/plain": [
              "7114615.431976663"
            ]
          },
          "metadata": {},
          "execution_count": 2412
        }
      ],
      "source": [
        "model = LinearRegression()\n",
        "\n",
        "model.fit(X_train, y_train)\n",
        "\n",
        "y_pred = model.predict(X_test)\n",
        "\n",
        "mean_squared_error(y_test, y_pred, squared=False)\n"
      ]
    },
    {
      "cell_type": "code",
      "execution_count": 2413,
      "metadata": {
        "id": "pcmwI647ugnO"
      },
      "outputs": [],
      "source": [
        "dt = dt.drop(['id','fuel_type','clean_title','ext_col','int_col'], axis=1)\n",
        "dtest=dt.copy()\n",
        "\n",
        "# le_engine1 = LabelEncoder()\n",
        "# le_accidents1 = LabelEncoder()\n",
        "# le_transmission1 = LabelEncoder()\n",
        "# le_brand1 = LabelEncoder()\n",
        "# le_model1 = LabelEncoder()\n",
        "\n",
        "# dtest['engine_encoded'] = le_engine1.fit_transform(dt['engine'])\n",
        "# dtest['accident_encoded'] = le_accidents1.fit_transform(dt['accident'])\n",
        "# dtest['transmission_encoded'] = le_transmission1.fit_transform(dt['transmission'])\n",
        "# dtest['brand_encoded'] = le_brand1.fit_transform(dt['brand'])\n",
        "# dtest['model_encoded'] = le_model1.fit_transform(dt['model'])\n",
        "\n",
        "dtest = dtest.drop(['accident','engine'], axis=1)"
      ]
    },
    {
      "cell_type": "code",
      "execution_count": 2414,
      "metadata": {
        "colab": {
          "base_uri": "https://localhost:8080/"
        },
        "id": "jm3WF8Qm99ln",
        "outputId": "7738a2ac-7b8c-4e2a-835b-91d96db03196"
      },
      "outputs": [
        {
          "output_type": "stream",
          "name": "stdout",
          "text": [
            "<class 'pandas.core.frame.DataFrame'>\n",
            "RangeIndex: 125690 entries, 0 to 125689\n",
            "Data columns (total 5 columns):\n",
            " #   Column        Non-Null Count   Dtype \n",
            "---  ------        --------------   ----- \n",
            " 0   brand         125690 non-null  object\n",
            " 1   model         125690 non-null  object\n",
            " 2   model_year    125690 non-null  int64 \n",
            " 3   milage        125690 non-null  int64 \n",
            " 4   transmission  125690 non-null  object\n",
            "dtypes: int64(2), object(3)\n",
            "memory usage: 4.8+ MB\n"
          ]
        }
      ],
      "source": [
        "dtest.info()"
      ]
    },
    {
      "cell_type": "code",
      "execution_count": 2415,
      "metadata": {
        "colab": {
          "base_uri": "https://localhost:8080/",
          "height": 512
        },
        "id": "atvkLd2vuTTe",
        "outputId": "32707e08-3a73-45f9-e4f6-ca2fc0d28e41"
      },
      "outputs": [
        {
          "output_type": "error",
          "ename": "ValueError",
          "evalue": "The feature names should match those that were passed during fit.\nFeature names unseen at fit time:\n- model_allroad 2.7T\nFeature names seen at fit time, yet now missing:\n- brand_Polestar\n- brand_smart\n- ext_col_Alfa White\n- ext_col_Alpine White\n- ext_col_Alta White\n- ...\n",
          "traceback": [
            "\u001b[0;31m---------------------------------------------------------------------------\u001b[0m",
            "\u001b[0;31mValueError\u001b[0m                                Traceback (most recent call last)",
            "\u001b[0;32m<ipython-input-2415-fdee18e17499>\u001b[0m in \u001b[0;36m<cell line: 3>\u001b[0;34m()\u001b[0m\n\u001b[1;32m      1\u001b[0m \u001b[0mid\u001b[0m \u001b[0;34m=\u001b[0m \u001b[0msf\u001b[0m\u001b[0;34m.\u001b[0m\u001b[0mpop\u001b[0m\u001b[0;34m(\u001b[0m\u001b[0;34m'id'\u001b[0m\u001b[0;34m)\u001b[0m\u001b[0;34m\u001b[0m\u001b[0;34m\u001b[0m\u001b[0m\n\u001b[1;32m      2\u001b[0m \u001b[0mdtest\u001b[0m \u001b[0;34m=\u001b[0m \u001b[0mpd\u001b[0m\u001b[0;34m.\u001b[0m\u001b[0mget_dummies\u001b[0m\u001b[0;34m(\u001b[0m\u001b[0mdtest\u001b[0m\u001b[0;34m,\u001b[0m\u001b[0mdrop_first\u001b[0m\u001b[0;34m=\u001b[0m\u001b[0;32mTrue\u001b[0m\u001b[0;34m)\u001b[0m\u001b[0;34m\u001b[0m\u001b[0;34m\u001b[0m\u001b[0m\n\u001b[0;32m----> 3\u001b[0;31m \u001b[0my_pred\u001b[0m \u001b[0;34m=\u001b[0m \u001b[0mmodel\u001b[0m\u001b[0;34m.\u001b[0m\u001b[0mpredict\u001b[0m\u001b[0;34m(\u001b[0m\u001b[0mdtest\u001b[0m\u001b[0;34m)\u001b[0m\u001b[0;34m\u001b[0m\u001b[0;34m\u001b[0m\u001b[0m\n\u001b[0m\u001b[1;32m      4\u001b[0m \u001b[0;34m\u001b[0m\u001b[0m\n\u001b[1;32m      5\u001b[0m \u001b[0;31m# Create a submission DataFrame\u001b[0m\u001b[0;34m\u001b[0m\u001b[0;34m\u001b[0m\u001b[0m\n",
            "\u001b[0;32m/usr/local/lib/python3.10/dist-packages/sklearn/linear_model/_base.py\u001b[0m in \u001b[0;36mpredict\u001b[0;34m(self, X)\u001b[0m\n\u001b[1;32m    384\u001b[0m             \u001b[0mReturns\u001b[0m \u001b[0mpredicted\u001b[0m \u001b[0mvalues\u001b[0m\u001b[0;34m.\u001b[0m\u001b[0;34m\u001b[0m\u001b[0;34m\u001b[0m\u001b[0m\n\u001b[1;32m    385\u001b[0m         \"\"\"\n\u001b[0;32m--> 386\u001b[0;31m         \u001b[0;32mreturn\u001b[0m \u001b[0mself\u001b[0m\u001b[0;34m.\u001b[0m\u001b[0m_decision_function\u001b[0m\u001b[0;34m(\u001b[0m\u001b[0mX\u001b[0m\u001b[0;34m)\u001b[0m\u001b[0;34m\u001b[0m\u001b[0;34m\u001b[0m\u001b[0m\n\u001b[0m\u001b[1;32m    387\u001b[0m \u001b[0;34m\u001b[0m\u001b[0m\n\u001b[1;32m    388\u001b[0m     \u001b[0;32mdef\u001b[0m \u001b[0m_set_intercept\u001b[0m\u001b[0;34m(\u001b[0m\u001b[0mself\u001b[0m\u001b[0;34m,\u001b[0m \u001b[0mX_offset\u001b[0m\u001b[0;34m,\u001b[0m \u001b[0my_offset\u001b[0m\u001b[0;34m,\u001b[0m \u001b[0mX_scale\u001b[0m\u001b[0;34m)\u001b[0m\u001b[0;34m:\u001b[0m\u001b[0;34m\u001b[0m\u001b[0;34m\u001b[0m\u001b[0m\n",
            "\u001b[0;32m/usr/local/lib/python3.10/dist-packages/sklearn/linear_model/_base.py\u001b[0m in \u001b[0;36m_decision_function\u001b[0;34m(self, X)\u001b[0m\n\u001b[1;32m    367\u001b[0m         \u001b[0mcheck_is_fitted\u001b[0m\u001b[0;34m(\u001b[0m\u001b[0mself\u001b[0m\u001b[0;34m)\u001b[0m\u001b[0;34m\u001b[0m\u001b[0;34m\u001b[0m\u001b[0m\n\u001b[1;32m    368\u001b[0m \u001b[0;34m\u001b[0m\u001b[0m\n\u001b[0;32m--> 369\u001b[0;31m         \u001b[0mX\u001b[0m \u001b[0;34m=\u001b[0m \u001b[0mself\u001b[0m\u001b[0;34m.\u001b[0m\u001b[0m_validate_data\u001b[0m\u001b[0;34m(\u001b[0m\u001b[0mX\u001b[0m\u001b[0;34m,\u001b[0m \u001b[0maccept_sparse\u001b[0m\u001b[0;34m=\u001b[0m\u001b[0;34m[\u001b[0m\u001b[0;34m\"csr\"\u001b[0m\u001b[0;34m,\u001b[0m \u001b[0;34m\"csc\"\u001b[0m\u001b[0;34m,\u001b[0m \u001b[0;34m\"coo\"\u001b[0m\u001b[0;34m]\u001b[0m\u001b[0;34m,\u001b[0m \u001b[0mreset\u001b[0m\u001b[0;34m=\u001b[0m\u001b[0;32mFalse\u001b[0m\u001b[0;34m)\u001b[0m\u001b[0;34m\u001b[0m\u001b[0;34m\u001b[0m\u001b[0m\n\u001b[0m\u001b[1;32m    370\u001b[0m         \u001b[0;32mreturn\u001b[0m \u001b[0msafe_sparse_dot\u001b[0m\u001b[0;34m(\u001b[0m\u001b[0mX\u001b[0m\u001b[0;34m,\u001b[0m \u001b[0mself\u001b[0m\u001b[0;34m.\u001b[0m\u001b[0mcoef_\u001b[0m\u001b[0;34m.\u001b[0m\u001b[0mT\u001b[0m\u001b[0;34m,\u001b[0m \u001b[0mdense_output\u001b[0m\u001b[0;34m=\u001b[0m\u001b[0;32mTrue\u001b[0m\u001b[0;34m)\u001b[0m \u001b[0;34m+\u001b[0m \u001b[0mself\u001b[0m\u001b[0;34m.\u001b[0m\u001b[0mintercept_\u001b[0m\u001b[0;34m\u001b[0m\u001b[0;34m\u001b[0m\u001b[0m\n\u001b[1;32m    371\u001b[0m \u001b[0;34m\u001b[0m\u001b[0m\n",
            "\u001b[0;32m/usr/local/lib/python3.10/dist-packages/sklearn/base.py\u001b[0m in \u001b[0;36m_validate_data\u001b[0;34m(self, X, y, reset, validate_separately, cast_to_ndarray, **check_params)\u001b[0m\n\u001b[1;32m    578\u001b[0m             \u001b[0mvalidated\u001b[0m\u001b[0;34m.\u001b[0m\u001b[0;34m\u001b[0m\u001b[0;34m\u001b[0m\u001b[0m\n\u001b[1;32m    579\u001b[0m         \"\"\"\n\u001b[0;32m--> 580\u001b[0;31m         \u001b[0mself\u001b[0m\u001b[0;34m.\u001b[0m\u001b[0m_check_feature_names\u001b[0m\u001b[0;34m(\u001b[0m\u001b[0mX\u001b[0m\u001b[0;34m,\u001b[0m \u001b[0mreset\u001b[0m\u001b[0;34m=\u001b[0m\u001b[0mreset\u001b[0m\u001b[0;34m)\u001b[0m\u001b[0;34m\u001b[0m\u001b[0;34m\u001b[0m\u001b[0m\n\u001b[0m\u001b[1;32m    581\u001b[0m \u001b[0;34m\u001b[0m\u001b[0m\n\u001b[1;32m    582\u001b[0m         \u001b[0;32mif\u001b[0m \u001b[0my\u001b[0m \u001b[0;32mis\u001b[0m \u001b[0;32mNone\u001b[0m \u001b[0;32mand\u001b[0m \u001b[0mself\u001b[0m\u001b[0;34m.\u001b[0m\u001b[0m_get_tags\u001b[0m\u001b[0;34m(\u001b[0m\u001b[0;34m)\u001b[0m\u001b[0;34m[\u001b[0m\u001b[0;34m\"requires_y\"\u001b[0m\u001b[0;34m]\u001b[0m\u001b[0;34m:\u001b[0m\u001b[0;34m\u001b[0m\u001b[0;34m\u001b[0m\u001b[0m\n",
            "\u001b[0;32m/usr/local/lib/python3.10/dist-packages/sklearn/base.py\u001b[0m in \u001b[0;36m_check_feature_names\u001b[0;34m(self, X, reset)\u001b[0m\n\u001b[1;32m    505\u001b[0m                 )\n\u001b[1;32m    506\u001b[0m \u001b[0;34m\u001b[0m\u001b[0m\n\u001b[0;32m--> 507\u001b[0;31m             \u001b[0;32mraise\u001b[0m \u001b[0mValueError\u001b[0m\u001b[0;34m(\u001b[0m\u001b[0mmessage\u001b[0m\u001b[0;34m)\u001b[0m\u001b[0;34m\u001b[0m\u001b[0;34m\u001b[0m\u001b[0m\n\u001b[0m\u001b[1;32m    508\u001b[0m \u001b[0;34m\u001b[0m\u001b[0m\n\u001b[1;32m    509\u001b[0m     def _validate_data(\n",
            "\u001b[0;31mValueError\u001b[0m: The feature names should match those that were passed during fit.\nFeature names unseen at fit time:\n- model_allroad 2.7T\nFeature names seen at fit time, yet now missing:\n- brand_Polestar\n- brand_smart\n- ext_col_Alfa White\n- ext_col_Alpine White\n- ext_col_Alta White\n- ...\n"
          ]
        }
      ],
      "source": [
        "id = sf.pop('id')\n",
        "dtest = pd.get_dummies(dtest,drop_first=True)\n",
        "y_pred = model.predict(dtest)\n",
        "\n",
        "# Create a submission DataFrame\n",
        "submission_df = pd.DataFrame({\n",
        "    'id': id,\n",
        "    'class': y_pred\n",
        "})\n",
        "\n",
        "# Save the submission DataFrame to a CSV file\n",
        "submission_df.to_csv('submission_file.csv', index=False)\n",
        "print(\"Submission file created: submission_file.csv\")"
      ]
    }
  ],
  "metadata": {
    "colab": {
      "provenance": [],
      "include_colab_link": true
    },
    "kernelspec": {
      "display_name": "Python 3",
      "name": "python3"
    },
    "language_info": {
      "name": "python"
    }
  },
  "nbformat": 4,
  "nbformat_minor": 0
}