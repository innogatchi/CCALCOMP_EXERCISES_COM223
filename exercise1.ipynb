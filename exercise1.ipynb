{
  "cells": [
    {
      "cell_type": "markdown",
      "metadata": {
        "id": "3-prKGbfwFRd"
      },
      "source": [
        "# Exercise 1"
      ]
    },
    {
      "cell_type": "markdown",
      "metadata": {
        "id": "kBW-_z9HwFRf"
      },
      "source": [
        "Please follow the instructions in each number. Do not remove or modify the pre-defined code!"
      ]
    },
    {
      "cell_type": "code",
      "execution_count": 55,
      "metadata": {
        "id": "ABAdD_ngwFRg"
      },
      "outputs": [],
      "source": [
        "# Add a vertex to the set of vertices and the graph\n",
        "def add_vertex(v):\n",
        "  global graph\n",
        "  global vertices_no\n",
        "  global vertices\n",
        "  if v in vertices:\n",
        "    print(\"Vertex \", v, \" already exists\")\n",
        "  else:\n",
        "    vertices_no = vertices_no + 1\n",
        "    vertices.append(v)\n",
        "    if vertices_no > 1:\n",
        "        for vertex in graph:\n",
        "            vertex.append(0)\n",
        "    temp = []\n",
        "    for i in range(vertices_no):\n",
        "        temp.append(0)\n",
        "    graph.append(temp)\n",
        "\n",
        "# Add an edge between vertex v1 and v2 with edge weight e\n",
        "def add_edge(v1, v2, e):\n",
        "    global graph\n",
        "    global vertices_no\n",
        "    global vertices\n",
        "    # Check if vertex v1 is a valid vertex\n",
        "    if v1 not in vertices:\n",
        "        print(\"Vertex \", v1, \" does not exist.\")\n",
        "    # Check if vertex v1 is a valid vertex\n",
        "    elif v2 not in vertices:\n",
        "        print(\"Vertex \", v2, \" does not exist.\")\n",
        "    # Since this code is not restricted to a directed or\n",
        "    # an undirected graph, an edge between v1 v2 does not\n",
        "    # imply that an edge exists between v2 and v1\n",
        "    else:\n",
        "        index1 = vertices.index(v1)\n",
        "        index2 = vertices.index(v2)\n",
        "        graph[index1][index2] = e\n",
        "\n",
        "# Print the graph\n",
        "def print_graph():\n",
        "  global graph\n",
        "  global vertices_no\n",
        "  for i in range(vertices_no):\n",
        "    for j in range(vertices_no):\n",
        "      if graph[i][j] != 0:\n",
        "        print(vertices[i], \" -> \", vertices[j],\n",
        "              \" edge weight: \", graph[i][j])"
      ]
    },
    {
      "cell_type": "code",
      "execution_count": 56,
      "metadata": {
        "id": "912w9tR0wFRh"
      },
      "outputs": [],
      "source": [
        "# stores the vertices in the graph\n",
        "vertices = []\n",
        "# stores the number of vertices in the graph\n",
        "vertices_no = 0\n",
        "graph = []"
      ]
    },
    {
      "cell_type": "markdown",
      "metadata": {
        "id": "lzkib3wYwFRh"
      },
      "source": [
        "<img src=\"https://github.com/robitussin/CCALCOMP_EXERCISES/blob/main/images/directed%20graph2.png?raw=true\"/>"
      ]
    },
    {
      "cell_type": "markdown",
      "metadata": {
        "id": "Qfh-2gbPwFRi"
      },
      "source": [
        "1. Print the edges and vertices of the graph in set representation. (`25 points`)"
      ]
    },
    {
      "cell_type": "code",
      "execution_count": 57,
      "metadata": {
        "id": "FSymqoxmwFRi",
        "colab": {
          "base_uri": "https://localhost:8080/"
        },
        "outputId": "5db0000b-f260-4e1f-c632-210a65e44047"
      },
      "outputs": [
        {
          "output_type": "stream",
          "name": "stdout",
          "text": [
            "Edges: {('C', 'D'), ('B', 'A'), ('E', 'A'), ('A', 'D'), ('C', 'B'), ('A', 'C')}\n",
            "Vertices: {'E', 'B', 'D', 'C', 'A'}\n"
          ]
        }
      ],
      "source": [
        "# stores the vertices in the graph\n",
        "vertices = []\n",
        "# stores the number of vertices in the graph\n",
        "vertices_no = 0\n",
        "graph = []\n",
        "\n",
        "edges = [('A','C'), ('A','D'), ('B','A'), ('C','D'), ('C','B'), ('E','A')]\n",
        "vertices = ['A', 'B', 'C', 'D', 'E']\n",
        "\n",
        "print(\"Edges:\", set(edges))\n",
        "\n",
        "# prints Vertices in set\n",
        "print(\"Vertices:\", set(vertices))"
      ]
    },
    {
      "cell_type": "markdown",
      "metadata": {
        "id": "NHt6QEFzwFRi"
      },
      "source": [
        "2. Implement the weighted graph in python code. Use the print_graph() function. (`25 points`)"
      ]
    },
    {
      "cell_type": "code",
      "execution_count": 58,
      "metadata": {
        "id": "fcYP9VF9wFRj",
        "colab": {
          "base_uri": "https://localhost:8080/"
        },
        "outputId": "71363b65-63cb-435f-9911-0690df586838"
      },
      "outputs": [
        {
          "output_type": "stream",
          "name": "stdout",
          "text": [
            "A  ->  C  edge weight:  12\n",
            "A  ->  D  edge weight:  60\n",
            "B  ->  A  edge weight:  10\n",
            "C  ->  B  edge weight:  20\n",
            "C  ->  D  edge weight:  32\n",
            "E  ->  A  edge weight:  7\n"
          ]
        }
      ],
      "source": [
        "# stores the vertices in the graph\n",
        "vertices = []\n",
        "# stores the number of vertices in the graph\n",
        "vertices_no = 0\n",
        "graph = []\n",
        "\n",
        "# input of vertices.\n",
        "add_vertex('A')\n",
        "add_vertex('B')\n",
        "add_vertex('C')\n",
        "add_vertex('D')\n",
        "add_vertex('E')\n",
        "\n",
        "# input of edges with weight.\n",
        "add_edge('A', 'D', 60)\n",
        "add_edge('A', 'C', 12)\n",
        "add_edge('B', 'A', 10)\n",
        "add_edge('C', 'B', 20)\n",
        "add_edge('C', 'D', 32)\n",
        "add_edge('E', 'A', 7)\n",
        "\n",
        "print_graph()"
      ]
    },
    {
      "cell_type": "markdown",
      "metadata": {
        "id": "kD-6afNTwFRj"
      },
      "source": [
        "3. You decided to go on a trip around the philippines. Being a computer scientist, you wanted to find the optimal route that would cost the least amount of money to travel all four cities. Find the route and print the total cost of the most optimal route. (`50 points`)"
      ]
    },
    {
      "cell_type": "markdown",
      "metadata": {
        "id": "cBHIHSIewFRj"
      },
      "source": [
        "<img src=\"https://github.com/robitussin/CCALCOMP_EXERCISES/blob/main/images/trip.png?raw=true\" width=\"500\" height=\"600\"/>"
      ]
    },
    {
      "cell_type": "code",
      "source": [
        "# modified dfs algorithm accounting for the weight// or in this instance the cost for each trip.\n",
        "def dfs_weight(graph, start, visited=None, done=0):\n",
        "  # makes set of visited places\n",
        "    if visited is None:\n",
        "        visited = set()\n",
        "    # adds visted place\n",
        "    visited.add(start)\n",
        "\n",
        "    # shows current place\n",
        "    print(start)\n",
        "\n",
        "    # set the value to the highest possible value.\n",
        "    minimum = float('inf')\n",
        "\n",
        "    # ensures that it returns to the starting point of 'Manila'.\n",
        "    if len(visited) == 4 and done == 0:\n",
        "        done = 1\n",
        "        visited.remove('Manila')\n",
        "\n",
        "\n",
        "    for next, weight in graph[start].items():\n",
        "        # checks if it is finally time to return to starting position.\n",
        "        if next not in visited and done == 1:\n",
        "            cost, visited = dfs_weight(graph, next, visited, 1)\n",
        "            # compares values and takes the cheaper option\n",
        "            minimum = min(minimum, cost + weight)\n",
        "        # checks weather the item in the dict is an unvisited place.\n",
        "        elif next not in visited:\n",
        "            cost, visited = dfs_weight(graph, next, visited)\n",
        "            # compares values and takes the cheaper option.\n",
        "            minimum = min(minimum, cost + weight)\n",
        "\n",
        "    # to check whether the method visited a place with no more unvisited places.\n",
        "    if minimum == float('inf'):\n",
        "        minimum = 0\n",
        "\n",
        "    # returns the total cost and the set of visited locations.\n",
        "    return minimum, visited\n",
        "\n",
        "# method to get the total cost.\n",
        "def sulit(graph):\n",
        "    start = list(graph.keys())[0]\n",
        "    minimum, visited = dfs_with_cost(graph, start)\n",
        "\n",
        "    return minimum\n",
        "\n",
        "graph = { 'Manila': {'Tacloban': 1000, 'Davao': 5000, 'Puerto Princesa': 8000},\n",
        "          'Tacloban': {'Manila': 1000, 'Puerto Princesa': 1500, 'Davao': 2000},\n",
        "          'Puerto Princesa': {'Tacloban': 1500, 'Davao': 4000, 'Manila': 8000},\n",
        "          'Davao': {'Tacloban': 2000, 'Manila': 5000, 'Puerto Princesa': 4000}}\n",
        "\n",
        "print(f\"Least total cost: ₱{sulit(graph)}\")"
      ],
      "metadata": {
        "colab": {
          "base_uri": "https://localhost:8080/"
        },
        "id": "UEl03x6p-c-L",
        "outputId": "98f8cbba-b0d6-4bf7-93d6-05aa91225398"
      },
      "execution_count": 59,
      "outputs": [
        {
          "output_type": "stream",
          "name": "stdout",
          "text": [
            "Manila\n",
            "Tacloban\n",
            "Puerto Princesa\n",
            "Davao\n",
            "Manila\n",
            "Least total cost: ₱11500\n"
          ]
        }
      ]
    },
    {
      "cell_type": "code",
      "source": [
        "# hard coded version\n",
        "\n",
        "# stores the vertices in the graph\n",
        "vertices = []\n",
        "# stores the number of vertices in the graph\n",
        "vertices_no = 0\n",
        "graph = []\n",
        "\n",
        "# input of vertices.\n",
        "add_vertex('Manila')\n",
        "add_vertex('Tacloban')\n",
        "add_vertex('Puerto Princesa')\n",
        "add_vertex('Davao')\n",
        "\n",
        "# input of edges with weight.\n",
        "add_edge('Manila', 'Tacloban', 1000)\n",
        "add_edge('Tacloban', 'Puerto Princesa', 1500)\n",
        "add_edge('Puerto Princesa', 'Davao', 4000)\n",
        "add_edge('Davao', 'Manila', 5000)\n",
        "\n",
        "print_graph()\n",
        "cost = 0\n",
        "for i in range(vertices_no):\n",
        "    for j in range(vertices_no):\n",
        "      if graph[i][j] != 0:\n",
        "        cost += graph[i][j]\n",
        "print(f'Total Cost: P{cost}')"
      ],
      "metadata": {
        "colab": {
          "base_uri": "https://localhost:8080/"
        },
        "id": "4lnutrk3dJKo",
        "outputId": "8318af82-3553-42df-a501-4fc2708cd194"
      },
      "execution_count": 60,
      "outputs": [
        {
          "output_type": "stream",
          "name": "stdout",
          "text": [
            "Manila  ->  Tacloban  edge weight:  1000\n",
            "Tacloban  ->  Puerto Princesa  edge weight:  1500\n",
            "Puerto Princesa  ->  Davao  edge weight:  4000\n",
            "Davao  ->  Manila  edge weight:  5000\n",
            "Total Cost: P11500\n"
          ]
        }
      ]
    }
  ],
  "metadata": {
    "kernelspec": {
      "display_name": "base",
      "language": "python",
      "name": "python3"
    },
    "language_info": {
      "codemirror_mode": {
        "name": "ipython",
        "version": 3
      },
      "file_extension": ".py",
      "mimetype": "text/x-python",
      "name": "python",
      "nbconvert_exporter": "python",
      "pygments_lexer": "ipython3",
      "version": "3.9.6"
    },
    "colab": {
      "provenance": []
    }
  },
  "nbformat": 4,
  "nbformat_minor": 0
}